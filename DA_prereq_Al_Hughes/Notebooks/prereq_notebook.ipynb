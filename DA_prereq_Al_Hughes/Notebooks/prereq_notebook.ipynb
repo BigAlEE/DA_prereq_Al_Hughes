{
 "cells": [
  {
   "cell_type": "code",
   "execution_count": 1,
   "id": "d297cc54",
   "metadata": {},
   "outputs": [
    {
     "name": "stdout",
     "output_type": "stream",
     "text": [
      "Hello to Code:You DA Instructors\n"
     ]
    }
   ],
   "source": [
    "print(\"Hello to Code:You DA Instructors\")"
   ]
  },
  {
   "cell_type": "markdown",
   "id": "ce31bebb",
   "metadata": {},
   "source": [
    "### My first Markdown for Aug 2025 Cohort\n",
    "\n",
    "#### My name is Al Hughes. I am 61 years old.  I have been a RN for 40 years and I also have a Bachelor's Degree in Electrical Engineer from University of KY in 2008.  I enjoy learning and I am looking forward to this course.  "
   ]
  }
 ],
 "metadata": {
  "kernelspec": {
   "display_name": "Python 3",
   "language": "python",
   "name": "python3"
  },
  "language_info": {
   "codemirror_mode": {
    "name": "ipython",
    "version": 3
   },
   "file_extension": ".py",
   "mimetype": "text/x-python",
   "name": "python",
   "nbconvert_exporter": "python",
   "pygments_lexer": "ipython3",
   "version": "3.13.7"
  }
 },
 "nbformat": 4,
 "nbformat_minor": 5
}
